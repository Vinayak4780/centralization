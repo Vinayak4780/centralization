{
 "cells": [
  {
   "cell_type": "code",
   "execution_count": 1,
   "id": "df5fcf7a-bc2e-434f-8edf-b889541ab75a",
   "metadata": {},
   "outputs": [
    {
     "name": "stdout",
     "output_type": "stream",
     "text": [
      "⚙️ Initializing FAISS...\n"
     ]
    },
    {
     "name": "stderr",
     "output_type": "stream",
     "text": [
      "/tmp/ipykernel_5517/465275492.py:37: LangChainDeprecationWarning: The class `HuggingFaceEmbeddings` was deprecated in LangChain 0.2.2 and will be removed in 1.0. An updated version of the class exists in the :class:`~langchain-huggingface package and should be used instead. To use it run `pip install -U :class:`~langchain-huggingface` and import as `from :class:`~langchain_huggingface import HuggingFaceEmbeddings``.\n",
      "  embeddings = HuggingFaceEmbeddings(model_name=\"all-MiniLM-L6-v2\")\n",
      "/home/ubuntu/.local/lib/python3.10/site-packages/tqdm/auto.py:21: TqdmWarning: IProgress not found. Please update jupyter and ipywidgets. See https://ipywidgets.readthedocs.io/en/stable/user_install.html\n",
      "  from .autonotebook import tqdm as notebook_tqdm\n"
     ]
    },
    {
     "name": "stdout",
     "output_type": "stream",
     "text": [
      "🔗 AI Link Chatbot is ready! Type 'exit' to quit.\n"
     ]
    },
    {
     "name": "stdin",
     "output_type": "stream",
     "text": [
      "\n",
      "🤖 Ask for a link:  rajkori\n"
     ]
    },
    {
     "name": "stdout",
     "output_type": "stream",
     "text": [
      "✅ Best match: \"rajkori\"\n",
      "🔗 Link: \"https://dseu.ac.in/rajokri/index.html\",\n"
     ]
    },
    {
     "name": "stdin",
     "output_type": "stream",
     "text": [
      "\n",
      "🤖 Ask for a link:  exit\n"
     ]
    },
    {
     "name": "stdout",
     "output_type": "stream",
     "text": [
      "👋 Goodbye!\n"
     ]
    }
   ],
   "source": [
    "import difflib\n",
    "import json\n",
    "import os\n",
    "from langchain.vectorstores import FAISS\n",
    "from langchain.embeddings import HuggingFaceEmbeddings\n",
    "from langchain.docstore.document import Document\n",
    "\n",
    "FAISS_DIR = \"faiss_link_index\"\n",
    "\n",
    "def load_links_from_file(file_path):\n",
    "    \"\"\"Loads a dictionary of links from a file, supporting JSON, dictionary, and plain text formats.\"\"\"\n",
    "    with open(file_path, \"r\", encoding=\"utf-8\") as file:\n",
    "        content = file.read().strip()\n",
    "\n",
    "        try:\n",
    "            return json.loads(content)\n",
    "        except json.JSONDecodeError:\n",
    "            pass\n",
    "\n",
    "        try:\n",
    "            evaluated = eval(content)\n",
    "            if isinstance(evaluated, dict):\n",
    "                return evaluated\n",
    "        except Exception:\n",
    "            pass\n",
    "\n",
    "        name_link_dict = {}\n",
    "        for line in content.splitlines():\n",
    "            if \":\" in line:\n",
    "                key, value = map(str.strip, line.split(\":\", 1))\n",
    "                name_link_dict[key] = value\n",
    "\n",
    "        return name_link_dict if name_link_dict else None\n",
    "\n",
    "def build_or_load_faiss(name_link_dict):\n",
    "    \"\"\"Builds or loads a FAISS index using LangChain.\"\"\"\n",
    "    embeddings = HuggingFaceEmbeddings(model_name=\"all-MiniLM-L6-v2\")\n",
    "\n",
    "    if os.path.exists(FAISS_DIR):\n",
    "        return FAISS.load_local(FAISS_DIR, embeddings=embeddings)\n",
    "\n",
    "    documents = [\n",
    "        Document(page_content=key, metadata={\"link\": value})\n",
    "        for key, value in name_link_dict.items()\n",
    "    ]\n",
    "    db = FAISS.from_documents(documents, embedding=embeddings)\n",
    "    db.save_local(FAISS_DIR)\n",
    "    return db\n",
    "\n",
    "def find_best_match_fuzzy(query, name_link_dict):\n",
    "    \"\"\"Fuzzy match fallback if FAISS fails.\"\"\"\n",
    "    query = query.lower()\n",
    "    best_match = difflib.get_close_matches(query, list(name_link_dict.keys()), n=1, cutoff=0.5)\n",
    "    if best_match:\n",
    "        return best_match[0], name_link_dict[best_match[0]]\n",
    "    return None, None\n",
    "\n",
    "def chatbot(file_path):\n",
    "    \"\"\"Runs the AI Link Chatbot with FAISS + Fuzzy fallback.\"\"\"\n",
    "    name_link_dict = load_links_from_file(file_path)\n",
    "\n",
    "    if not name_link_dict:\n",
    "        print(\"❌ No valid links found. Please check the file format.\")\n",
    "        return\n",
    "\n",
    "    print(\"⚙️ Initializing FAISS...\")\n",
    "    db = build_or_load_faiss(name_link_dict)\n",
    "\n",
    "    print(\"🔗 AI Link Chatbot is ready! Type 'exit' to quit.\")\n",
    "\n",
    "    while True:\n",
    "        user_query = input(\"\\n🤖 Ask for a link: \").strip()\n",
    "        if user_query.lower() == \"exit\":\n",
    "            print(\"👋 Goodbye!\")\n",
    "            break\n",
    "\n",
    "        docs = db.similarity_search(user_query, k=1)\n",
    "        if docs:\n",
    "            doc = docs[0]\n",
    "            best_name = doc.page_content\n",
    "            best_link = doc.metadata.get(\"link\", \"Link not found\")\n",
    "            print(f\"✅ Best match: {best_name}\\n🔗 Link: {best_link}\")\n",
    "        else:\n",
    "            # Fallback to fuzzy matching\n",
    "            best_name, best_link = find_best_match_fuzzy(user_query, name_link_dict)\n",
    "            if best_link:\n",
    "                print(f\"🤖 Fuzzy match: {best_name}\\n🔗 Link: {best_link}\")\n",
    "            else:\n",
    "                print(\"❌ No relevant link found. Try again!\")\n",
    "\n",
    "# Run the chatbot with the file\n",
    "chatbot(\"EDITED_LINKS(1).txt\")\n"
   ]
  },
  {
   "cell_type": "code",
   "execution_count": null,
   "id": "8b14d8df-f533-4153-96c0-8495aabfe5da",
   "metadata": {},
   "outputs": [],
   "source": []
  }
 ],
 "metadata": {
  "kernelspec": {
   "display_name": "Python 3 (ipykernel)",
   "language": "python",
   "name": "python3"
  },
  "language_info": {
   "codemirror_mode": {
    "name": "ipython",
    "version": 3
   },
   "file_extension": ".py",
   "mimetype": "text/x-python",
   "name": "python",
   "nbconvert_exporter": "python",
   "pygments_lexer": "ipython3",
   "version": "3.10.12"
  }
 },
 "nbformat": 4,
 "nbformat_minor": 5
}
